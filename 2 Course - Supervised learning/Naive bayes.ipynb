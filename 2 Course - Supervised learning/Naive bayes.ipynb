{
 "cells": [
  {
   "cell_type": "markdown",
   "metadata": {},
   "source": [
    "# Assignment: Выбор семейства распределений в наивном байесе\n"
   ]
  },
  {
   "cell_type": "markdown",
   "metadata": {},
   "source": [
    "В этом задании вы сможете немного расслабиться после реализации случайного леса и градиентного бустинга по мотивам материалов прошлой недели. Все, что нужно будет делать — запускать методы из `sklearn`. Вам предлагается выяснить, какое распределение лучше использовать в наивном байесовском классификаторе в зависимости от вида признаков.\n",
    "\n",
    "1. Загрузите датасеты [`digits`](http://scikit-learn.org/stable/modules/generated/sklearn.datasets.load_digits.html) и `breast_cancer` из `sklearn.datasets`.\n",
    "2. Выведите несколько строчек из обучающих выборок и посмотрите на признаки.\n",
    "3. С помощью `sklearn.cross_validation.cross_val_score` c настройками по умолчанию и вызова метода `mean()` у возвращаемого этой функцией `numpy.ndarray`, сравните качество работы наивных байесовских классификаторов на этих двух датасетах. Для сравнения предлагается использовать `BernoulliNB`, `MultinomialNB` и `GaussianNB`. Насколько полученные результаты согласуются с рекомендациями из лекций?\n",
    "\n",
    "Два датасета, конечно, еще не повод делать далеко идущие выводы, но при желании вы можете продолжить исследование на других выборках (например, из UCI репозитория).\n",
    "\n",
    "Для сдачи задания ответьте на приведенные ниже вопросы."
   ]
  },
  {
   "cell_type": "code",
   "execution_count": 8,
   "metadata": {},
   "outputs": [],
   "source": [
    "from sklearn.datasets import load_breast_cancer, load_digits  \n",
    "\n",
    "digits_data = load_digits().data\n",
    "digits_target = load_digits().target\n",
    "\n",
    "cancer_data = load_breast_cancer().data\n",
    "cancer_target = load_breast_cancer().target"
   ]
  },
  {
   "cell_type": "code",
   "execution_count": 18,
   "metadata": {},
   "outputs": [
    {
     "name": "stdout",
     "output_type": "stream",
     "text": [
      "Digits: [0.8241736304549674, 0.8703497369235531, 0.8069281956050759]\n",
      "Cancer: [0.6274181027790716, 0.8963204471355379, 0.9385188635305075]\n"
     ]
    }
   ],
   "source": [
    "from sklearn.model_selection import cross_val_score\n",
    "from sklearn.naive_bayes import BernoulliNB, MultinomialNB, GaussianNB\n",
    "\n",
    "scores_digits = list()\n",
    "scores_cancer = list()\n",
    "\n",
    "clfs = [\n",
    "    BernoulliNB(),\n",
    "    MultinomialNB(),\n",
    "    GaussianNB()\n",
    "]\n",
    "for clf in clfs:\n",
    "    scores_cancer.append(cross_val_score(clf, cancer_data, cancer_target).mean())\n",
    "    scores_digits.append(cross_val_score(clf, digits_data, digits_target).mean())\n",
    "\n",
    "print (f'Digits: {scores_digits}')\n",
    "print (f'Cancer: {scores_cancer}')"
   ]
  },
  {
   "cell_type": "markdown",
   "metadata": {},
   "source": [
    "## Вопрос 1\n",
    "\n",
    "Каким получилось максимальное качество классификации на датасете `breast_cancer`?"
   ]
  },
  {
   "cell_type": "code",
   "execution_count": 19,
   "metadata": {},
   "outputs": [
    {
     "name": "stdout",
     "output_type": "stream",
     "text": [
      "0.9385188635305075\n"
     ]
    }
   ],
   "source": [
    "print (max(scores_cancer))"
   ]
  },
  {
   "cell_type": "markdown",
   "metadata": {},
   "source": [
    "## Вопрос 2\n",
    "\n",
    "Каким получилось максимальное качество классификации на датасете `digits`?"
   ]
  },
  {
   "cell_type": "code",
   "execution_count": 20,
   "metadata": {},
   "outputs": [
    {
     "name": "stdout",
     "output_type": "stream",
     "text": [
      "0.8703497369235531\n"
     ]
    }
   ],
   "source": [
    "print (max(scores_digits))"
   ]
  },
  {
   "cell_type": "markdown",
   "metadata": {},
   "source": [
    "## Вопрос 3\n",
    "\n",
    "Выберите верные утверждения и запишите их номера через пробел (в порядке возрастания номера):\n",
    "\n",
    "1) На вещественных признаках лучше всего сработал наивный байесовский классификатор с распределением Бернулли;\n",
    "\n",
    "2) На вещественных признаках лучше всего сработал наивный байесовский классификатор с мультиномиальным распределением;\n",
    "\n",
    "3) Мультиномиальное распределение лучше показало себя на выборке с целыми неотрицательными значениями признаков;\n",
    "\n",
    "4) На вещественных признаках лучше всего сработало нормальное распределение."
   ]
  }
 ],
 "metadata": {
  "kernelspec": {
   "display_name": "Python 3",
   "language": "python",
   "name": "python3"
  },
  "language_info": {
   "codemirror_mode": {
    "name": "ipython",
    "version": 3
   },
   "file_extension": ".py",
   "mimetype": "text/x-python",
   "name": "python",
   "nbconvert_exporter": "python",
   "pygments_lexer": "ipython3",
   "version": "3.8.5"
  }
 },
 "nbformat": 4,
 "nbformat_minor": 1
}
