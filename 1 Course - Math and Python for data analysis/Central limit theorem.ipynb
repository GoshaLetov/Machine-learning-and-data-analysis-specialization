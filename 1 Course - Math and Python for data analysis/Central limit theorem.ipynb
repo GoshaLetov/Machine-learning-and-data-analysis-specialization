{
 "cells": [
  {
   "cell_type": "markdown",
   "metadata": {},
   "source": [
    "# Assignment: Центральная предельная теорема своими руками"
   ]
  },
  {
   "cell_type": "markdown",
   "metadata": {},
   "source": [
    "В этом задании вам предстоит проверить работу центральной предельной теоремы, а также поработать с генерацией случайных чисел и построением графиков в Питоне.\n",
    "\n",
    "Выберите ваше любимое непрерывное распределение (чем меньше оно будет похоже на нормальное, тем интереснее; попробуйте выбрать какое-нибудь распределение из тех, что мы не обсуждали в курсе). Сгенерируйте из него выборку объёма 1000, постройте гистограмму выборки и нарисуйте поверх неё теоретическую плотность распределения вашей случайной величины.\n",
    "\n",
    "Для нескольких значений `n` (например, 5, 10, 50) сгенерируйте 1000 выборок объёма n и постройте гистограммы распределений их выборочных средних. Используя информацию о среднем и дисперсии исходного распределения (её можно без труда найти в википедии), посчитайте значения параметров нормальных распределений, которыми, согласно центральной предельной теореме, приближается распределение выборочных средних. \n",
    "\n",
    "**Обратите внимание:** для подсчёта значений этих параметров нужно использовать именно теоретические среднее и дисперсию вашей случайной величины, а не их выборочные оценки. Поверх каждой гистограммы нарисуйте плотность соответствующего нормального распределения.\n",
    "\n",
    "Опишите разницу между полученными распределениями при различных значениях n. Как меняется точность аппроксимации распределения выборочных средних нормальным с ростом n?\n",
    "\n",
    "Решение должно представлять собой IPython-ноутбук, содержащий:\n",
    "\n",
    "* код, генерирующий выборки и графики;\n",
    "* краткие описания каждого блока кода, объясняющие, что он делает;\n",
    "* необходимые графики (убедитесь, что на них подписаны оси);\n",
    "* выкладки с вычислениями параметров нормальных распределений, аппроксимирующих выборочные средние при различных n;\n",
    "* выводы по результатам выполнения задания."
   ]
  },
  {
   "cell_type": "code",
   "execution_count": 1,
   "metadata": {},
   "outputs": [],
   "source": [
    "import numpy as np\n",
    "import matplotlib.pyplot as plt\n",
    "\n",
    "from scipy.stats import cauchy, norm, gamma, beta\n",
    "\n",
    "%matplotlib inline\n",
    "\n",
    "plt.style.use('ggplot')\n",
    "plt.rcParams['figure.figsize'] = (12, 8)"
   ]
  },
  {
   "cell_type": "code",
   "execution_count": 2,
   "metadata": {},
   "outputs": [],
   "source": [
    "mu = 0\n",
    "sigma = 1\n",
    "a = 4\n",
    "b = 4\n",
    "\n",
    "norm_rv = norm(loc=mu, scale=sigma)\n",
    "cauchy_rv = cauchy()\n",
    "gamma_rv = gamma(a)\n",
    "beta_rv = beta(a, b)\n",
    "\n",
    "norm_values = norm_rv.rvs(size=1000)\n",
    "cauchy_values = cauchy_rv.rvs(size=1000)\n",
    "gamma_values = gamma_rv.rvs(size=1000)\n",
    "beta_values = beta_rv.rvs(size=1000)"
   ]
  },
  {
   "cell_type": "code",
   "execution_count": 3,
   "metadata": {},
   "outputs": [
    {
     "data": {
      "image/png": "[encoded data removed]",
      "text/plain": [
       "<Figure size 864x576 with 1 Axes>"
      ]
     },
     "metadata": {},
     "output_type": "display_data"
    }
   ],
   "source": [
    "plt.hist(\n",
    "    beta_values, \n",
    "    bins=25, \n",
    "    density=True, \n",
    "    label='rvs',\n",
    "    alpha=0.5\n",
    ")\n",
    "plt.plot(\n",
    "    np.linspace(0, 1, 100), \n",
    "    beta_rv.pdf(np.linspace(0, 1, 100)), \n",
    "    label='beta',\n",
    "    lw=2,\n",
    ")\n",
    "plt.legend(frameon=False, loc='best')\n",
    "plt.show()"
   ]
  },
  {
   "cell_type": "code",
   "execution_count": 4,
   "metadata": {},
   "outputs": [],
   "source": [
    "def sample_generator(sample_size, sample_amount, random_variable):\n",
    "    container = []\n",
    "    sample_count = 0\n",
    "    while sample_count < sample_amount:\n",
    "        sample_count += 1\n",
    "        container.append(random_variable.rvs(size=sample_size).mean())\n",
    "    return np.array(container)"
   ]
  },
  {
   "cell_type": "code",
   "execution_count": 5,
   "metadata": {},
   "outputs": [
    {
     "name": "stdout",
     "output_type": "stream",
     "text": [
      "Математическое ожидание: 0.5\n",
      "Дисперсия: 2.25\n"
     ]
    }
   ],
   "source": [
    "E = a / (a + b)\n",
    "var = a * b / (a + b) ** 2 * (a + b + 1)\n",
    "print ('Математическое ожидание:', E)\n",
    "print ('Дисперсия:', var)"
   ]
  },
  {
   "cell_type": "code",
   "execution_count": 6,
   "metadata": {},
   "outputs": [
    {
     "name": "stdout",
     "output_type": "stream",
     "text": [
      "Размер семпла: 5\n",
      " Математическое ожидание: 0.4979\n",
      " Дисперсия: 0.006\n",
      "====================================================================================================\n",
      "Размер семпла: 10\n",
      " Математическое ожидание: 0.5025\n",
      " Дисперсия: 0.0027\n",
      "====================================================================================================\n",
      "Размер семпла: 15\n",
      " Математическое ожидание: 0.4985\n",
      " Дисперсия: 0.0019\n",
      "====================================================================================================\n",
      "Размер семпла: 20\n",
      " Математическое ожидание: 0.4991\n",
      " Дисперсия: 0.0013\n",
      "====================================================================================================\n",
      "Размер семпла: 25\n",
      " Математическое ожидание: 0.5006\n",
      " Дисперсия: 0.0011\n",
      "====================================================================================================\n",
      "Размер семпла: 30\n",
      " Математическое ожидание: 0.5003\n",
      " Дисперсия: 0.001\n",
      "====================================================================================================\n",
      "Размер семпла: 35\n",
      " Математическое ожидание: 0.5002\n",
      " Дисперсия: 0.0008\n",
      "====================================================================================================\n",
      "Размер семпла: 40\n",
      " Математическое ожидание: 0.5003\n",
      " Дисперсия: 0.0007\n",
      "====================================================================================================\n",
      "Размер семпла: 45\n",
      " Математическое ожидание: 0.5007\n",
      " Дисперсия: 0.0006\n",
      "====================================================================================================\n",
      "Размер семпла: 50\n",
      " Математическое ожидание: 0.4999\n",
      " Дисперсия: 0.0006\n",
      "====================================================================================================\n"
     ]
    }
   ],
   "source": [
    "for n in range(5, 51, 5):\n",
    "    sample = sample_generator(\n",
    "        sample_size=n, \n",
    "        sample_amount=1000,\n",
    "        random_variable=beta_rv,\n",
    "    )\n",
    "    print (f'Размер семпла: {n}\\n Математическое ожидание: {round(sample.mean(), 4)}\\n Дисперсия: {round(sample.var(), 4)}')\n",
    "    print ('=' * 100)"
   ]
  },
  {
   "cell_type": "code",
   "execution_count": 7,
   "metadata": {},
   "outputs": [
    {
     "data": {
      "image/png": "[encoded data removed]",
      "text/plain": [
       "<Figure size 864x576 with 1 Axes>"
      ]
     },
     "metadata": {},
     "output_type": "display_data"
    }
   ],
   "source": [
    "plt.hist(\n",
    "    sample_generator(100, 1000, beta_rv), \n",
    "    bins=25, \n",
    "    density=True,\n",
    ")\n",
    "plt.show()"
   ]
  }
 ],
 "metadata": {
  "kernelspec": {
   "display_name": "Python 3",
   "language": "python",
   "name": "python3"
  },
  "language_info": {
   "codemirror_mode": {
    "name": "ipython",
    "version": 3
   },
   "file_extension": ".py",
   "mimetype": "text/x-python",
   "name": "python",
   "nbconvert_exporter": "python",
   "pygments_lexer": "ipython3",
   "version": "3.8.5"
  }
 },
 "nbformat": 4,
 "nbformat_minor": 1
}
